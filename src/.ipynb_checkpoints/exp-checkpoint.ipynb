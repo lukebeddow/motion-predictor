{
 "cells": [
  {
   "cell_type": "code",
   "execution_count": 84,
   "id": "90b5ab19-7802-462b-8689-b4cae1e57a74",
   "metadata": {},
   "outputs": [],
   "source": [
    "import sys\n",
    "import os\n",
    "import pathlib\n",
    "import importlib\n",
    "\n",
    "sys.path.append(os.path.abspath(\"repos/dreamerv3\"))\n",
    "\n",
    "from env.gym import GymHandler\n",
    "from dreamerv3 import embodied\n",
    "import elements"
   ]
  },
  {
   "cell_type": "code",
   "execution_count": 116,
   "id": "368578cc-f55d-4021-86b4-918eab7c1b0b",
   "metadata": {},
   "outputs": [],
   "source": [
    "gym_handler = GymHandler('Walker2d-v5')\n",
    "env = gym_handler.env\n",
    "obs_space = env.observation_space"
   ]
  },
  {
   "cell_type": "code",
   "execution_count": 121,
   "id": "2fdb2bfe-0065-49fe-92ad-5c2fdbed2357",
   "metadata": {},
   "outputs": [
    {
     "data": {
      "text/plain": [
       "(17,)"
      ]
     },
     "execution_count": 121,
     "metadata": {},
     "output_type": "execute_result"
    }
   ],
   "source": [
    "obs_space.shape"
   ]
  },
  {
   "cell_type": "code",
   "execution_count": 97,
   "id": "a424ee1d-f7ba-4fd7-a151-16f95d3bc4d1",
   "metadata": {},
   "outputs": [],
   "source": [
    "from dm_control import suite\n",
    "env = suite.load('walker', 'walk')"
   ]
  },
  {
   "cell_type": "code",
   "execution_count": 106,
   "id": "0e72c28d-14c2-4879-b701-f67e6d7601b3",
   "metadata": {},
   "outputs": [],
   "source": [
    "from dreamerv3.embodied.envs.from_dm import FromDM"
   ]
  },
  {
   "cell_type": "code",
   "execution_count": 110,
   "id": "bc8bfe91-a79f-472c-b08b-0321a45c66ee",
   "metadata": {},
   "outputs": [],
   "source": [
    "_env = FromDM(env)"
   ]
  },
  {
   "cell_type": "code",
   "execution_count": 113,
   "id": "1a215555-3c46-4253-820c-b584fce7b484",
   "metadata": {},
   "outputs": [
    {
     "data": {
      "text/plain": [
       "OrderedDict([('orientations',\n",
       "              Array(shape=(14,), dtype=dtype('float64'), name='orientations')),\n",
       "             ('height',\n",
       "              Array(shape=(), dtype=dtype('float64'), name='height')),\n",
       "             ('velocity',\n",
       "              Array(shape=(9,), dtype=dtype('float64'), name='velocity'))])"
      ]
     },
     "execution_count": 113,
     "metadata": {},
     "output_type": "execute_result"
    }
   ],
   "source": [
    "env.observation_spec()"
   ]
  },
  {
   "cell_type": "code",
   "execution_count": 118,
   "id": "075fd80e-4911-4a61-b3a1-45892e73a2c5",
   "metadata": {},
   "outputs": [
    {
     "data": {
      "text/plain": [
       "{'reward': Space(float32, shape=(), low=-inf, high=inf),\n",
       " 'is_first': Space(bool, shape=(), low=False, high=True),\n",
       " 'is_last': Space(bool, shape=(), low=False, high=True),\n",
       " 'is_terminal': Space(bool, shape=(), low=False, high=True),\n",
       " 'orientations': Space(float64, shape=(14,), low=-inf, high=inf),\n",
       " 'height': Space(float64, shape=(), low=-inf, high=inf),\n",
       " 'velocity': Space(float64, shape=(9,), low=-inf, high=inf)}"
      ]
     },
     "execution_count": 118,
     "metadata": {},
     "output_type": "execute_result"
    }
   ],
   "source": [
    "_env.obs_space"
   ]
  },
  {
   "cell_type": "code",
   "execution_count": 120,
   "id": "efe9cb1f-06d1-4c29-93f8-e2e05a2e2d7f",
   "metadata": {},
   "outputs": [
    {
     "data": {
      "text/plain": [
       "(17,)"
      ]
     },
     "execution_count": 120,
     "metadata": {},
     "output_type": "execute_result"
    }
   ],
   "source": [
    "obs_space.shape"
   ]
  },
  {
   "cell_type": "code",
   "execution_count": null,
   "id": "0c779d91-3398-417f-aac7-c22d03956882",
   "metadata": {},
   "outputs": [],
   "source": [
    "    spaces = {\n",
    "        'reward': elements.Space(np.float32),\n",
    "        'is_first': elements.Space(bool),\n",
    "        'is_last': elements.Space(bool),\n",
    "        'is_terminal': elements.Space(bool),\n",
    "    }"
   ]
  }
 ],
 "metadata": {
  "kernelspec": {
   "display_name": "Python 3 (ipykernel)",
   "language": "python",
   "name": "python3"
  },
  "language_info": {
   "codemirror_mode": {
    "name": "ipython",
    "version": 3
   },
   "file_extension": ".py",
   "mimetype": "text/x-python",
   "name": "python",
   "nbconvert_exporter": "python",
   "pygments_lexer": "ipython3",
   "version": "3.11.11"
  }
 },
 "nbformat": 4,
 "nbformat_minor": 5
}
